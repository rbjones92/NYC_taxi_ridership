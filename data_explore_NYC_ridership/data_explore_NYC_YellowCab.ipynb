{
 "cells": [
  {
   "cell_type": "code",
   "execution_count": 5,
   "id": "7807f5ff",
   "metadata": {},
   "outputs": [
    {
     "data": {
      "text/html": [
       "<style>.container { width:100% !important; }</style>"
      ],
      "text/plain": [
       "<IPython.core.display.HTML object>"
      ]
     },
     "metadata": {},
     "output_type": "display_data"
    }
   ],
   "source": [
    "from IPython.core.display import display, HTML\n",
    "display(HTML(\"<style>.container { width:100% !important; }</style>\"))"
   ]
  },
  {
   "cell_type": "code",
   "execution_count": 1,
   "id": "3c78257b",
   "metadata": {},
   "outputs": [],
   "source": [
    "from pyspark.sql import SparkSession\n",
    "from pyspark.sql.types import StructType, StructField, StringType, IntegerType, LongType, DateType, TimestampType\n",
    "from pyspark.sql.functions import col, count, when, isnan, when\n",
    "spark = SparkSession.builder.getOrCreate()\n",
    "\n",
    "folder_path = 'C:\\\\Users\\\\Bob\\\\Desktop\\\\SpringBoard\\\\Python_Projects\\\\NYC_Taxi_Capstone\\\\New_York_Taxi_Data\\\\'\n",
    "\n",
    "yellow_cab_2009 = 'C:\\\\Users\\\\Bob\\\\Desktop\\\\SpringBoard\\\\Python_Projects\\\\NYC_Taxi_Capstone\\\\New_York_Taxi_Data\\\\Yellow Taxi Trip Records 2009-01.csv'\n",
    "\n",
    "yellow_cab_2013 = 'C:\\\\Users\\\\Bob\\\\Desktop\\\\SpringBoard\\\\Python_Projects\\\\NYC_Taxi_Capstone\\\\New_York_Taxi_Data\\\\Yellow Taxi Trip Records 2013-01.csv'\n",
    "\n",
    "yellow_cab_2016 = 'C:\\\\Users\\\\Bob\\\\Desktop\\\\SpringBoard\\\\Python_Projects\\\\NYC_Taxi_Capstone\\\\New_York_Taxi_Data\\\\Yellow Taxi Trip Records 2016-01.csv'\n",
    "\n",
    "yellow_cab_2021 = 'C:\\\\Users\\\\Bob\\\\Desktop\\\\SpringBoard\\\\Python_Projects\\\\NYC_Taxi_Capstone\\\\New_York_Taxi_Data\\\\Yellow Taxi Trip Records 2021-07.csv'"
   ]
  },
  {
   "cell_type": "code",
   "execution_count": 10,
   "id": "c7d1bf97",
   "metadata": {},
   "outputs": [
    {
     "name": "stdout",
     "output_type": "stream",
     "text": [
      "Nulls per column:\n",
      "+-----------+--------------------+---------------------+---------------+-------------+---------+---------+---------+-----------------+-------+-------+------------+--------+---------+--------+-------+---------+---------+\n",
      "|vendor_name|Trip_Pickup_DateTime|Trip_Dropoff_DateTime|Passenger_Count|Trip_Distance|Start_Lon|Start_Lat|Rate_Code|store_and_forward|End_Lon|End_Lat|Payment_Type|Fare_Amt|surcharge| mta_tax|Tip_Amt|Tolls_Amt|Total_Amt|\n",
      "+-----------+--------------------+---------------------+---------------+-------------+---------+---------+---------+-----------------+-------+-------+------------+--------+---------+--------+-------+---------+---------+\n",
      "|          0|                   0|                    0|              0|            0|        0|        0| 14092413|         14091189|      0|      0|           0|       0|        0|14092413|      0|        0|        0|\n",
      "+-----------+--------------------+---------------------+---------------+-------------+---------+---------+---------+-----------------+-------+-------+------------+--------+---------+--------+-------+---------+---------+\n",
      "\n",
      "14092413 total rows\n",
      "18 total columns\n",
      "Schema:\n",
      "root\n",
      " |-- vendor_name: string (nullable = true)\n",
      " |-- Trip_Pickup_DateTime: string (nullable = true)\n",
      " |-- Trip_Dropoff_DateTime: string (nullable = true)\n",
      " |-- Passenger_Count: string (nullable = true)\n",
      " |-- Trip_Distance: string (nullable = true)\n",
      " |-- Start_Lon: string (nullable = true)\n",
      " |-- Start_Lat: string (nullable = true)\n",
      " |-- Rate_Code: string (nullable = true)\n",
      " |-- store_and_forward: string (nullable = true)\n",
      " |-- End_Lon: string (nullable = true)\n",
      " |-- End_Lat: string (nullable = true)\n",
      " |-- Payment_Type: string (nullable = true)\n",
      " |-- Fare_Amt: string (nullable = true)\n",
      " |-- surcharge: string (nullable = true)\n",
      " |-- mta_tax: string (nullable = true)\n",
      " |-- Tip_Amt: string (nullable = true)\n",
      " |-- Tolls_Amt: string (nullable = true)\n",
      " |-- Total_Amt: string (nullable = true)\n",
      "\n"
     ]
    }
   ],
   "source": [
    "#### Exploring data from (2009) for yellow cab records ####\n",
    "\n",
    "# Load\n",
    "yc_df_2009 = spark.read.format('csv').options(header=True).load(yellow_cab_2009)\n",
    "\n",
    "# Count nulls for each column \n",
    "print(\"Nulls per column:\")\n",
    "yc_df_2009.select([count(when(isnan(c) | col(c).isNull(), c)).alias(c) for c in yc_df_2009.columns]).show()\n",
    "\n",
    "# Total rows \n",
    "print(yc_df_2009.count(),\"total rows\")\n",
    "\n",
    "# Total cols \n",
    "print(len(yc_df_2009.columns) ,\"total columns\")\n",
    "\n",
    "# Schema\n",
    "print(\"Schema:\")\n",
    "yc_df_2009.printSchema()"
   ]
  },
  {
   "cell_type": "code",
   "execution_count": 11,
   "id": "40c184d3",
   "metadata": {},
   "outputs": [
    {
     "name": "stdout",
     "output_type": "stream",
     "text": [
      "Nulls per column:\n",
      "+---------+---------------+----------------+---------------+-------------+----------------+---------------+---------+------------------+-----------------+----------------+------------+-----------+---------+-------+----------+------------+------------+\n",
      "|vendor_id|pickup_datetime|dropoff_datetime|passenger_count|trip_distance|pickup_longitude|pickup_latitude|rate_code|store_and_fwd_flag|dropoff_longitude|dropoff_latitude|payment_type|fare_amount|surcharge|mta_tax|tip_amount|tolls_amount|total_amount|\n",
      "+---------+---------------+----------------+---------------+-------------+----------------+---------------+---------+------------------+-----------------+----------------+------------+-----------+---------+-------+----------+------------+------------+\n",
      "|        0|              0|               0|              0|            0|               0|              0|        0|           7326207|               86|              86|           0|          0|        0|      0|         0|           0|           0|\n",
      "+---------+---------------+----------------+---------------+-------------+----------------+---------------+---------+------------------+-----------------+----------------+------------+-----------+---------+-------+----------+------------+------------+\n",
      "\n",
      "14776615 total rows\n",
      "18 total columns\n",
      "Schema:\n",
      "root\n",
      " |-- vendor_id: string (nullable = true)\n",
      " |-- pickup_datetime: string (nullable = true)\n",
      " |-- dropoff_datetime: string (nullable = true)\n",
      " |-- passenger_count: string (nullable = true)\n",
      " |-- trip_distance: string (nullable = true)\n",
      " |-- pickup_longitude: string (nullable = true)\n",
      " |-- pickup_latitude: string (nullable = true)\n",
      " |-- rate_code: string (nullable = true)\n",
      " |-- store_and_fwd_flag: string (nullable = true)\n",
      " |-- dropoff_longitude: string (nullable = true)\n",
      " |-- dropoff_latitude: string (nullable = true)\n",
      " |-- payment_type: string (nullable = true)\n",
      " |-- fare_amount: string (nullable = true)\n",
      " |-- surcharge: string (nullable = true)\n",
      " |-- mta_tax: string (nullable = true)\n",
      " |-- tip_amount: string (nullable = true)\n",
      " |-- tolls_amount: string (nullable = true)\n",
      " |-- total_amount: string (nullable = true)\n",
      "\n"
     ]
    }
   ],
   "source": [
    "#### Exploring data from (2013) for yellow cab records ####\n",
    "\n",
    "# Load\n",
    "yc_df_2013 = spark.read.format('csv').options(header=True).load(yellow_cab_2013)\n",
    "\n",
    "# Count nulls for each column \n",
    "print(\"Nulls per column:\")\n",
    "yc_df_2013.select([count(when(isnan(c) | col(c).isNull(), c)).alias(c) for c in yc_df_2013.columns]).show()\n",
    "\n",
    "# Total rows \n",
    "print(yc_df_2013.count(),\"total rows\")\n",
    "\n",
    "# Total cols \n",
    "print(len(yc_df_2013.columns),\"total columns\")\n",
    "\n",
    "# Schema\n",
    "print(\"Schema:\")\n",
    "yc_df_2013.printSchema()"
   ]
  },
  {
   "cell_type": "code",
   "execution_count": 13,
   "id": "d0098855",
   "metadata": {},
   "outputs": [
    {
     "name": "stdout",
     "output_type": "stream",
     "text": [
      "Nulls per column:\n",
      "+--------+--------------------+---------------------+---------------+-------------+----------------+---------------+----------+------------------+-----------------+----------------+------------+-----------+-----+-------+----------+------------+---------------------+------------+\n",
      "|VendorID|tpep_pickup_datetime|tpep_dropoff_datetime|passenger_count|trip_distance|pickup_longitude|pickup_latitude|RatecodeID|store_and_fwd_flag|dropoff_longitude|dropoff_latitude|payment_type|fare_amount|extra|mta_tax|tip_amount|tolls_amount|improvement_surcharge|total_amount|\n",
      "+--------+--------------------+---------------------+---------------+-------------+----------------+---------------+----------+------------------+-----------------+----------------+------------+-----------+-----+-------+----------+------------+---------------------+------------+\n",
      "|       0|                   0|                    0|              0|            0|               0|              0|         0|                 0|                0|               0|           0|          0|    0|      0|         0|           0|                    0|           0|\n",
      "+--------+--------------------+---------------------+---------------+-------------+----------------+---------------+----------+------------------+-----------------+----------------+------------+-----------+-----+-------+----------+------------+---------------------+------------+\n",
      "\n",
      "10906858 total rows\n",
      "19 total columns\n",
      "Schema:\n",
      "root\n",
      " |-- VendorID: string (nullable = true)\n",
      " |-- tpep_pickup_datetime: string (nullable = true)\n",
      " |-- tpep_dropoff_datetime: string (nullable = true)\n",
      " |-- passenger_count: string (nullable = true)\n",
      " |-- trip_distance: string (nullable = true)\n",
      " |-- pickup_longitude: string (nullable = true)\n",
      " |-- pickup_latitude: string (nullable = true)\n",
      " |-- RatecodeID: string (nullable = true)\n",
      " |-- store_and_fwd_flag: string (nullable = true)\n",
      " |-- dropoff_longitude: string (nullable = true)\n",
      " |-- dropoff_latitude: string (nullable = true)\n",
      " |-- payment_type: string (nullable = true)\n",
      " |-- fare_amount: string (nullable = true)\n",
      " |-- extra: string (nullable = true)\n",
      " |-- mta_tax: string (nullable = true)\n",
      " |-- tip_amount: string (nullable = true)\n",
      " |-- tolls_amount: string (nullable = true)\n",
      " |-- improvement_surcharge: string (nullable = true)\n",
      " |-- total_amount: string (nullable = true)\n",
      "\n"
     ]
    }
   ],
   "source": [
    "#### Exploring data from (2016) for yellow cab records ####\n",
    "\n",
    "# Load\n",
    "yc_df_2016 = spark.read.format('csv').options(header=True).load(yellow_cab_2016)\n",
    "\n",
    "# Count nulls for each column \n",
    "print(\"Nulls per column:\")\n",
    "yc_df_2016.select([count(when(isnan(c) | col(c).isNull(), c)).alias(c) for c in yc_df_2016.columns]).show()\n",
    "\n",
    "# Total rows \n",
    "print(yc_df_2016.count(),\"total rows\")\n",
    "\n",
    "# Total cols \n",
    "print(len(yc_df_2016.columns),\"total columns\")\n",
    "\n",
    "# Schema\n",
    "print(\"Schema:\")\n",
    "yc_df_2016.printSchema()"
   ]
  },
  {
   "cell_type": "code",
   "execution_count": 14,
   "id": "29c9b041",
   "metadata": {},
   "outputs": [
    {
     "name": "stdout",
     "output_type": "stream",
     "text": [
      "Nulls per column:\n",
      "+--------+--------------------+---------------------+---------------+-------------+----------+------------------+------------+------------+------------+-----------+-----+-------+----------+------------+---------------------+------------+--------------------+\n",
      "|VendorID|tpep_pickup_datetime|tpep_dropoff_datetime|passenger_count|trip_distance|RatecodeID|store_and_fwd_flag|PULocationID|DOLocationID|payment_type|fare_amount|extra|mta_tax|tip_amount|tolls_amount|improvement_surcharge|total_amount|congestion_surcharge|\n",
      "+--------+--------------------+---------------------+---------------+-------------+----------+------------------+------------+------------+------------+-----------+-----+-------+----------+------------+---------------------+------------+--------------------+\n",
      "|  130656|                   0|                    0|         130656|            0|    130656|            130656|           0|           0|      130656|          0|    0|      0|         0|           0|                    0|           0|                   0|\n",
      "+--------+--------------------+---------------------+---------------+-------------+----------+------------------+------------+------------+------------+-----------+-----+-------+----------+------------+---------------------+------------+--------------------+\n",
      "\n",
      "2821515 total rows\n",
      "18 total columns\n",
      "Schema:\n",
      "root\n",
      " |-- VendorID: string (nullable = true)\n",
      " |-- tpep_pickup_datetime: string (nullable = true)\n",
      " |-- tpep_dropoff_datetime: string (nullable = true)\n",
      " |-- passenger_count: string (nullable = true)\n",
      " |-- trip_distance: string (nullable = true)\n",
      " |-- RatecodeID: string (nullable = true)\n",
      " |-- store_and_fwd_flag: string (nullable = true)\n",
      " |-- PULocationID: string (nullable = true)\n",
      " |-- DOLocationID: string (nullable = true)\n",
      " |-- payment_type: string (nullable = true)\n",
      " |-- fare_amount: string (nullable = true)\n",
      " |-- extra: string (nullable = true)\n",
      " |-- mta_tax: string (nullable = true)\n",
      " |-- tip_amount: string (nullable = true)\n",
      " |-- tolls_amount: string (nullable = true)\n",
      " |-- improvement_surcharge: string (nullable = true)\n",
      " |-- total_amount: string (nullable = true)\n",
      " |-- congestion_surcharge: string (nullable = true)\n",
      "\n"
     ]
    }
   ],
   "source": [
    "#### Exploring data from (2021) for yellow cab records ####\n",
    "\n",
    "# Load\n",
    "yc_df_2021 = spark.read.format('csv').options(header=True).load(yellow_cab_2021)\n",
    "\n",
    "# Count nulls for each column \n",
    "print(\"Nulls per column:\")\n",
    "yc_df_2021.select([count(when(isnan(c) | col(c).isNull(), c)).alias(c) for c in yc_df_2021.columns]).show()\n",
    "\n",
    "# Total rows \n",
    "print(yc_df_2021.count(),\"total rows\")\n",
    "\n",
    "# Total cols \n",
    "print(len(yc_df_2021.columns),\"total columns\")\n",
    "\n",
    "# Schema\n",
    "print(\"Schema:\")\n",
    "yc_df_2021.printSchema()"
   ]
  },
  {
   "cell_type": "code",
   "execution_count": null,
   "id": "e5ab0659",
   "metadata": {},
   "outputs": [],
   "source": []
  }
 ],
 "metadata": {
  "kernelspec": {
   "display_name": "Python 3 (ipykernel)",
   "language": "python",
   "name": "python3"
  },
  "language_info": {
   "codemirror_mode": {
    "name": "ipython",
    "version": 3
   },
   "file_extension": ".py",
   "mimetype": "text/x-python",
   "name": "python",
   "nbconvert_exporter": "python",
   "pygments_lexer": "ipython3",
   "version": "3.7.4"
  }
 },
 "nbformat": 4,
 "nbformat_minor": 5
}
