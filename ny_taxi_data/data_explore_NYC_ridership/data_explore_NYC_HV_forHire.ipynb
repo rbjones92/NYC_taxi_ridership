{
 "cells": [
  {
   "cell_type": "code",
   "execution_count": 6,
   "id": "1bcaaec9",
   "metadata": {},
   "outputs": [
    {
     "data": {
      "text/html": [
       "<style>.container { width:100% !important; }</style>"
      ],
      "text/plain": [
       "<IPython.core.display.HTML object>"
      ]
     },
     "metadata": {},
     "output_type": "display_data"
    }
   ],
   "source": [
    "from IPython.core.display import display, HTML\n",
    "display(HTML(\"<style>.container { width:100% !important; }</style>\"))"
   ]
  },
  {
   "cell_type": "code",
   "execution_count": 2,
   "id": "11c4319c",
   "metadata": {},
   "outputs": [],
   "source": [
    "from pyspark.sql import SparkSession\n",
    "from pyspark.sql.types import StructType, StructField, StringType, IntegerType, LongType, DateType, TimestampType\n",
    "from pyspark.sql.functions import col, count, when, isnan, when"
   ]
  },
  {
   "cell_type": "code",
   "execution_count": 3,
   "id": "982853eb",
   "metadata": {},
   "outputs": [],
   "source": [
    "spark = SparkSession.builder.getOrCreate()\n",
    "\n",
    "folder_path = 'C:\\\\Users\\\\Bob\\\\Desktop\\\\SpringBoard\\\\Python_Projects\\\\NYC_Taxi_Capstone\\\\New_York_Taxi_Data\\\\'\n",
    "\n",
    "high_vol_2021 = 'C:\\\\Users\\\\Bob\\\\Desktop\\\\SpringBoard\\\\Python_Projects\\\\NYC_Taxi_Capstone\\\\New_York_Taxi_Data\\\\High Volume For-Hire Vehicle Trip Records 2019-02.csv'"
   ]
  },
  {
   "cell_type": "code",
   "execution_count": 5,
   "id": "d30e081c",
   "metadata": {},
   "outputs": [
    {
     "name": "stdout",
     "output_type": "stream",
     "text": [
      "Nulls in column:\n",
      "+-----------------+--------------------+---------------+----------------+------------+------------+--------+\n",
      "|hvfhs_license_num|dispatching_base_num|pickup_datetime|dropoff_datetime|PULocationID|DOLocationID| SR_Flag|\n",
      "+-----------------+--------------------+---------------+----------------+------------+------------+--------+\n",
      "|                0|                 405|              0|               0|           0|           0|15345574|\n",
      "+-----------------+--------------------+---------------+----------------+------------+------------+--------+\n",
      "\n",
      "20159102 total rows\n",
      "7 total columns\n",
      "Schema:\n",
      "root\n",
      " |-- hvfhs_license_num: string (nullable = true)\n",
      " |-- dispatching_base_num: string (nullable = true)\n",
      " |-- pickup_datetime: string (nullable = true)\n",
      " |-- dropoff_datetime: string (nullable = true)\n",
      " |-- PULocationID: string (nullable = true)\n",
      " |-- DOLocationID: string (nullable = true)\n",
      " |-- SR_Flag: string (nullable = true)\n",
      "\n"
     ]
    }
   ],
   "source": [
    "#### Exploring data from (2019-2021) for high volume for-hire records ####\n",
    "\n",
    "# Load\n",
    "hv_2021_df = spark.read.format('csv').options(header=True).load(high_vol_2021)\n",
    "\n",
    "# Count nulls for each column \n",
    "print(\"Nulls in column:\")\n",
    "hv_2021_df.select([count(when(isnan(c) | col(c).isNull(), c)).alias(c) for c in hv_2021_df.columns]).show()\n",
    "\n",
    "# Total rows \n",
    "print(hv_2021_df.count(),\"total rows\")\n",
    "\n",
    "# Total cols \n",
    "print(len(hv_2021_df.columns),\"total columns\")\n",
    "\n",
    "# Schema\n",
    "print(\"Schema:\")\n",
    "hv_2021_df.printSchema()"
   ]
  },
  {
   "cell_type": "code",
   "execution_count": null,
   "id": "66e47192",
   "metadata": {},
   "outputs": [],
   "source": []
  }
 ],
 "metadata": {
  "kernelspec": {
   "display_name": "Python 3 (ipykernel)",
   "language": "python",
   "name": "python3"
  },
  "language_info": {
   "codemirror_mode": {
    "name": "ipython",
    "version": 3
   },
   "file_extension": ".py",
   "mimetype": "text/x-python",
   "name": "python",
   "nbconvert_exporter": "python",
   "pygments_lexer": "ipython3",
   "version": "3.7.4"
  }
 },
 "nbformat": 4,
 "nbformat_minor": 5
}
