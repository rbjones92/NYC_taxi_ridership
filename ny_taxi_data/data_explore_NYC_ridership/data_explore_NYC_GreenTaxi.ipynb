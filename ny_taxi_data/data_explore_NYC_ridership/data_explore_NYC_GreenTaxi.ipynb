{
 "cells": [
  {
   "cell_type": "code",
   "execution_count": 5,
   "id": "55cea6dd",
   "metadata": {},
   "outputs": [
    {
     "data": {
      "text/html": [
       "<style>.container { width:100% !important; }</style>"
      ],
      "text/plain": [
       "<IPython.core.display.HTML object>"
      ]
     },
     "metadata": {},
     "output_type": "display_data"
    }
   ],
   "source": [
    "from IPython.core.display import display, HTML\n",
    "display(HTML(\"<style>.container { width:100% !important; }</style>\"))"
   ]
  },
  {
   "cell_type": "code",
   "execution_count": 1,
   "id": "8af6bcd9",
   "metadata": {},
   "outputs": [],
   "source": [
    "from pyspark.sql import SparkSession\n",
    "from pyspark.sql.types import StructType, StructField, StringType, IntegerType, LongType, DateType, TimestampType\n",
    "from pyspark.sql.functions import col, count, when, isnan, when"
   ]
  },
  {
   "cell_type": "code",
   "execution_count": 2,
   "id": "995916d7",
   "metadata": {},
   "outputs": [],
   "source": [
    "spark = SparkSession.builder.getOrCreate()\n",
    "\n",
    "folder_path = 'C:\\\\Users\\\\Bob\\\\Desktop\\\\SpringBoard\\\\Python_Projects\\\\NYC_Taxi_Capstone\\\\New_York_Taxi_Data\\\\'\n",
    "\n",
    "green_taxi_2013 = 'C:\\\\Users\\\\Bob\\\\Desktop\\\\SpringBoard\\\\Python_Projects\\\\NYC_Taxi_Capstone\\\\New_York_Taxi_Data\\\\Green Taxi Trip Records 2013-08.csv'\n",
    "\n",
    "green_taxi_2015 = 'C:\\\\Users\\\\Bob\\\\Desktop\\\\SpringBoard\\\\Python_Projects\\\\NYC_Taxi_Capstone\\\\New_York_Taxi_Data\\\\Green Taxi Trip Records 2015-01.csv'\n"
   ]
  },
  {
   "cell_type": "code",
   "execution_count": 4,
   "id": "6807772a",
   "metadata": {},
   "outputs": [
    {
     "name": "stdout",
     "output_type": "stream",
     "text": [
      "Nulls in column:\n",
      "+--------+--------------------+---------------------+------------------+----------+----------------+---------------+-----------------+----------------+---------------+-------------+-----------+-----+-------+----------+------------+---------+------------+------------+----------+\n",
      "|VendorID|lpep_pickup_datetime|Lpep_dropoff_datetime|Store_and_fwd_flag|RateCodeID|Pickup_longitude|Pickup_latitude|Dropoff_longitude|Dropoff_latitude|Passenger_count|Trip_distance|Fare_amount|Extra|MTA_tax|Tip_amount|Tolls_amount|Ehail_fee|Total_amount|Payment_type|Trip_type |\n",
      "+--------+--------------------+---------------------+------------------+----------+----------------+---------------+-----------------+----------------+---------------+-------------+-----------+-----+-------+----------+------------+---------+------------+------------+----------+\n",
      "|       0|                   0|                    0|                 0|         0|               0|              0|                0|               0|              0|            0|          0|    0|      0|         0|           0|     7623|           0|           0|      7623|\n",
      "+--------+--------------------+---------------------+------------------+----------+----------------+---------------+-----------------+----------------+---------------+-------------+-----------+-----+-------+----------+------------+---------+------------+------------+----------+\n",
      "\n",
      "7623 total rows\n",
      "20 total columns\n",
      "Schema:\n",
      "root\n",
      " |-- VendorID: string (nullable = true)\n",
      " |-- lpep_pickup_datetime: string (nullable = true)\n",
      " |-- Lpep_dropoff_datetime: string (nullable = true)\n",
      " |-- Store_and_fwd_flag: string (nullable = true)\n",
      " |-- RateCodeID: string (nullable = true)\n",
      " |-- Pickup_longitude: string (nullable = true)\n",
      " |-- Pickup_latitude: string (nullable = true)\n",
      " |-- Dropoff_longitude: string (nullable = true)\n",
      " |-- Dropoff_latitude: string (nullable = true)\n",
      " |-- Passenger_count: string (nullable = true)\n",
      " |-- Trip_distance: string (nullable = true)\n",
      " |-- Fare_amount: string (nullable = true)\n",
      " |-- Extra: string (nullable = true)\n",
      " |-- MTA_tax: string (nullable = true)\n",
      " |-- Tip_amount: string (nullable = true)\n",
      " |-- Tolls_amount: string (nullable = true)\n",
      " |-- Ehail_fee: string (nullable = true)\n",
      " |-- Total_amount: string (nullable = true)\n",
      " |-- Payment_type: string (nullable = true)\n",
      " |-- Trip_type : string (nullable = true)\n",
      "\n"
     ]
    }
   ],
   "source": [
    "#### Exploring data from (2013-2015) green taxi records ####\n",
    "\n",
    "# Load\n",
    "gtaxiDF_2013 = spark.read.format('csv').options(header=True).load(green_taxi_2013)\n",
    "\n",
    "# Count nulls for each column \n",
    "print(\"Nulls in column:\")\n",
    "gtaxiDF_2013.select([count(when(isnan(c) | col(c).isNull(), c)).alias(c) for c in gtaxiDF_2013.columns]).show()\n",
    "\n",
    "# Total rows \n",
    "print(gtaxiDF_2013.count(),\"total rows\")\n",
    "\n",
    "# Total cols \n",
    "print(len(gtaxiDF_2013.columns),\"total columns\")\n",
    "\n",
    "# Schema\n",
    "print(\"Schema:\")\n",
    "gtaxiDF_2013.printSchema()"
   ]
  },
  {
   "cell_type": "code",
   "execution_count": 6,
   "id": "b56e07a6",
   "metadata": {},
   "outputs": [
    {
     "name": "stdout",
     "output_type": "stream",
     "text": [
      "Nulls in columns:\n",
      "+--------+--------------------+---------------------+------------------+----------+----------------+---------------+-----------------+----------------+---------------+-------------+-----------+-----+-------+----------+------------+---------+---------------------+------------+------------+----------+\n",
      "|VendorID|lpep_pickup_datetime|Lpep_dropoff_datetime|Store_and_fwd_flag|RateCodeID|Pickup_longitude|Pickup_latitude|Dropoff_longitude|Dropoff_latitude|Passenger_count|Trip_distance|Fare_amount|Extra|MTA_tax|Tip_amount|Tolls_amount|Ehail_fee|improvement_surcharge|Total_amount|Payment_type|Trip_type |\n",
      "+--------+--------------------+---------------------+------------------+----------+----------------+---------------+-----------------+----------------+---------------+-------------+-----------+-----+-------+----------+------------+---------+---------------------+------------+------------+----------+\n",
      "|       0|                   0|                    0|                 0|         0|               0|              0|                0|               0|              0|            0|          0|    0|      0|         0|           0|  1508501|                    0|           0|           0|         5|\n",
      "+--------+--------------------+---------------------+------------------+----------+----------------+---------------+-----------------+----------------+---------------+-------------+-----------+-----+-------+----------+------------+---------+---------------------+------------+------------+----------+\n",
      "\n",
      "1508501 total rows\n",
      "21 total columns\n",
      "Schema:\n",
      "root\n",
      " |-- VendorID: string (nullable = true)\n",
      " |-- lpep_pickup_datetime: string (nullable = true)\n",
      " |-- Lpep_dropoff_datetime: string (nullable = true)\n",
      " |-- Store_and_fwd_flag: string (nullable = true)\n",
      " |-- RateCodeID: string (nullable = true)\n",
      " |-- Pickup_longitude: string (nullable = true)\n",
      " |-- Pickup_latitude: string (nullable = true)\n",
      " |-- Dropoff_longitude: string (nullable = true)\n",
      " |-- Dropoff_latitude: string (nullable = true)\n",
      " |-- Passenger_count: string (nullable = true)\n",
      " |-- Trip_distance: string (nullable = true)\n",
      " |-- Fare_amount: string (nullable = true)\n",
      " |-- Extra: string (nullable = true)\n",
      " |-- MTA_tax: string (nullable = true)\n",
      " |-- Tip_amount: string (nullable = true)\n",
      " |-- Tolls_amount: string (nullable = true)\n",
      " |-- Ehail_fee: string (nullable = true)\n",
      " |-- improvement_surcharge: string (nullable = true)\n",
      " |-- Total_amount: string (nullable = true)\n",
      " |-- Payment_type: string (nullable = true)\n",
      " |-- Trip_type : string (nullable = true)\n",
      "\n"
     ]
    }
   ],
   "source": [
    "#### Exploring data from (2015-2021) green taxi records ####\n",
    "gtaxiDF_2015 = spark.read.format('csv').options(header=True).load(green_taxi_2015)\n",
    "\n",
    "# Count nulls for each column \n",
    "print(\"Nulls in columns:\")\n",
    "gtaxiDF_2015.select([count(when(isnan(c) | col(c).isNull(), c)).alias(c) for c in gtaxiDF_2015.columns]).show()\n",
    "\n",
    "# Total rows \n",
    "print(gtaxiDF_2015.count(),\"total rows\")\n",
    "\n",
    "# Total cols \n",
    "print(len(gtaxiDF_2015.columns),\"total columns\")\n",
    "\n",
    "# Schema\n",
    "print(\"Schema:\")\n",
    "gtaxiDF_2015.printSchema()"
   ]
  },
  {
   "cell_type": "code",
   "execution_count": null,
   "id": "43f62548",
   "metadata": {},
   "outputs": [],
   "source": []
  }
 ],
 "metadata": {
  "kernelspec": {
   "display_name": "Python 3 (ipykernel)",
   "language": "python",
   "name": "python3"
  },
  "language_info": {
   "codemirror_mode": {
    "name": "ipython",
    "version": 3
   },
   "file_extension": ".py",
   "mimetype": "text/x-python",
   "name": "python",
   "nbconvert_exporter": "python",
   "pygments_lexer": "ipython3",
   "version": "3.7.4"
  }
 },
 "nbformat": 4,
 "nbformat_minor": 5
}
